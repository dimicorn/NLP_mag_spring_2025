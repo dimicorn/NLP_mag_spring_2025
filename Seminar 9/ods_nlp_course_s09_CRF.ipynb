{
  "cells": [
    {
      "cell_type": "markdown",
      "metadata": {
        "id": "lRC5Mk7DS7il"
      },
      "source": [
        "# BiLSTM и CRF [(взято отсюда)](https://github.com/aminaghoul/NER-PyTorch?tab=readme-ov-file)\n",
        "\n",
        "В этом ноутбуке мы используем условные случайные поля (Conditional Random Fields, или CRF), которые часто применяются для задачи распознавания именованных сущностей (Named Entity Recognition) с целью предсказания корректных последовательностей меток.  \n",
        "Например, не должно быть ситуации, когда за меткой `B-PER` сразу следует другая метка `B-PER`.  \n",
        "Для реализации CRF мы будем использовать пакет [pytorch-crf](https://github.com/kmkurn/pytorch-crf).\n"
      ]
    },
    {
      "cell_type": "code",
      "execution_count": 1,
      "metadata": {
        "id": "FZ7KdEYMXqTP"
      },
      "outputs": [
        {
          "name": "stdout",
          "output_type": "stream",
          "text": [
            "Note: you may need to restart the kernel to use updated packages.\n",
            "Note: you may need to restart the kernel to use updated packages.\n"
          ]
        }
      ],
      "source": [
        "%pip install -q torchtext==0.6.0\n",
        "%pip install -q pytorch-crf"
      ]
    },
    {
      "cell_type": "code",
      "execution_count": 2,
      "metadata": {
        "colab": {
          "base_uri": "https://localhost:8080/"
        },
        "id": "HDTnd9P1YKi6",
        "outputId": "0c3684d6-b79c-4640-c705-b632f1861730"
      },
      "outputs": [
        {
          "name": "stdout",
          "output_type": "stream",
          "text": [
            "fatal: destination path 'NER-PyTorch' already exists and is not an empty directory.\n"
          ]
        }
      ],
      "source": [
        "!git clone https://github.com/aminaghoul/NER-PyTorch.git"
      ]
    },
    {
      "cell_type": "code",
      "execution_count": 3,
      "metadata": {
        "id": "s7pqLoSXKbh6"
      },
      "outputs": [],
      "source": [
        "#!pip install torchtext==0.6.0\n",
        "#!pip install pytorch-crf\n",
        "\n",
        "import time\n",
        "import torch\n",
        "from torch import nn\n",
        "from torch.optim import Adam\n",
        "# from torchtext.data import Field, NestedField, BucketIterator\n",
        "# from torchtext.datasets import SequenceTaggingDataset\n",
        "# from torchtext.vocab import Vocab\n",
        "from collections import Counter\n",
        "\n",
        "import torch\n",
        "import torch.nn as nn\n",
        "import torch.optim as optim\n",
        "\n",
        "from torchtext import data\n",
        "# from torchtext import datasets\n",
        "\n",
        "import spacy\n",
        "from torchcrf import CRF\n",
        "import numpy as np\n",
        "import pandas as pd\n",
        "\n",
        "import time\n",
        "import random\n",
        "import string\n",
        "from itertools import chain"
      ]
    },
    {
      "cell_type": "code",
      "execution_count": 4,
      "metadata": {},
      "outputs": [],
      "source": [
        "# !pip install spacy torchcrf"
      ]
    },
    {
      "cell_type": "markdown",
      "metadata": {
        "id": "k4LF_qyLKvfK"
      },
      "source": [
        "# Подготовка данных"
      ]
    },
    {
      "cell_type": "code",
      "execution_count": 5,
      "metadata": {
        "id": "JAamZSXiKnJl"
      },
      "outputs": [],
      "source": [
        "# pour la reproductibilité\n",
        "SEED = 1234\n",
        "\n",
        "random.seed(SEED)\n",
        "np.random.seed(SEED)\n",
        "torch.manual_seed(SEED)\n",
        "torch.backends.cudnn.deterministic = True\n",
        "\n",
        "TEXT = data.Field(lower = False)\n",
        "TAG = data.Field(unk_token = None) # les tags sont tous connus on a alors unk_token = None\n",
        "\n",
        "my_path = \"NER-PyTorch/data/\"\n",
        "train_data, valid_data, test_data = data.TabularDataset.splits(\n",
        "        path= my_path ,\n",
        "        train=\"train.csv\",\n",
        "        validation=\"valid.csv\",\n",
        "        test=\"test.csv\", format='csv', skip_header=True,\n",
        "        fields=((\"text\", TEXT), (\"tag\", TAG))\n",
        "    )\n",
        "MIN_FREQ = 0\n",
        "\n",
        "TEXT.build_vocab(train_data,\n",
        "                 min_freq = MIN_FREQ, # les mots qui apparaissent moins que MIN_FREQ fois seront ignorés du vocabulaire\n",
        "                 vectors = \"glove.6B.100d\",\n",
        "                 unk_init = torch.Tensor.normal_)\n",
        "\n",
        "\n",
        "TAG.build_vocab(train_data)\n",
        "BATCH_SIZE = 16\n",
        "\n",
        "device = torch.device('cuda' if torch.cuda.is_available() else 'cpu')\n",
        "#device = 'cpu'\n",
        "train_iterator, valid_iterator, test_iterator = data.BucketIterator.splits(\n",
        "    (train_data, valid_data, test_data),\n",
        "    batch_size = BATCH_SIZE,\n",
        "    device = device, sort=False)\n",
        "\n",
        "# padding index\n",
        "TEXT_PAD_IDX = TEXT.vocab.stoi[TEXT.pad_token]\n",
        "TAG_PAD_IDX = TAG.vocab.stoi[TAG.pad_token]"
      ]
    },
    {
      "cell_type": "markdown",
      "metadata": {
        "id": "qXY-SyrWKx4u"
      },
      "source": [
        "## Построение модели\n",
        "\n",
        "В классе модели предусмотрены три ключевых изменения:\n",
        "\n",
        "1. **Подготовка слоя CRF при инициализации**  \n",
        "   Необходимо создать слой CRF и указать количество возможных тегов в тексте. Это позволит модели правильно обрабатывать предсказания последовательностей.\n",
        "\n",
        "2. **Включение логики слоя CRF в метод `forward()`**  \n",
        "   Это важное изменение: из-за особенностей реализации в пакете [`pytorch-crf`](https://github.com/kmkurn/pytorch-crf) теперь **расчёт потерь (loss)** выполняется прямо внутри `forward()`. Ранее прямой проход (forward pass) и вычисление потерь выполнялись отдельно — теперь они объединены, что упрощает код и делает обучение более прозрачным.\n",
        "\n",
        "3. **Инициализация невозможных переходов в CRF**  \n",
        "   В функции `init_crf_transitions` мы устанавливаем очень низкое значение (например, -100) для переходов между тегами, которые **нарушают BIO-логику**. Таким образом, модель \"понимает\", что такие переходы нежелательны и практически невозможны (например, `I-ORG` без предшествующего `B-ORG`).\n"
      ]
    },
    {
      "cell_type": "code",
      "execution_count": 6,
      "metadata": {
        "id": "PW8shLquKyr-"
      },
      "outputs": [],
      "source": [
        "class BiLSTM(nn.Module):\n",
        "\n",
        "    def __init__(self,\n",
        "                 input_dim,\n",
        "                 embedding_dim,\n",
        "                 hidden_dim,\n",
        "                 output_dim,\n",
        "                 lstm_layers,\n",
        "                 emb_dropout,\n",
        "                 lstm_dropout,\n",
        "                 fc_dropout,\n",
        "                 word_pad_idx,\n",
        "                 tag_pad_idx):\n",
        "        super().__init__()\n",
        "\n",
        "        # LAYER 1: Word Embedding\n",
        "        self.embedding_dim = embedding_dim\n",
        "        self.embedding = nn.Embedding(\n",
        "            num_embeddings=input_dim,\n",
        "            embedding_dim=embedding_dim,\n",
        "            padding_idx=word_pad_idx\n",
        "        )\n",
        "        self.emb_dropout = nn.Dropout(emb_dropout)\n",
        "\n",
        "\n",
        "        # LAYER 2: BiLSTM\n",
        "        self.lstm = nn.LSTM(\n",
        "            input_size=embedding_dim,\n",
        "            hidden_size=hidden_dim,\n",
        "            num_layers=lstm_layers,\n",
        "            bidirectional=True,\n",
        "            dropout=lstm_dropout if lstm_layers > 1 else 0\n",
        "        )\n",
        "\n",
        "        # LAYER 3: Fully-connected\n",
        "        self.fc_dropout = nn.Dropout(fc_dropout)\n",
        "        self.fc = nn.Linear(hidden_dim * 2, output_dim)\n",
        "        # LAYER 4: CRF\n",
        "\n",
        "        self.tag_pad_idx = tag_pad_idx\n",
        "        self.crf = CRF(num_tags=output_dim)\n",
        "\n",
        "        # init poids avec distribution normale\n",
        "        for name, param in self.named_parameters():\n",
        "            nn.init.normal_(param.data, mean=0, std=0.1)\n",
        "\n",
        "    def forward(self, words, tags=None):\n",
        "\n",
        "        # words = [sentence length, batch size]\n",
        "        # chars = [batch size, sentence length, word length)\n",
        "        # tags = [sentence length, batch size]\n",
        "\n",
        "        # embedding_out = [sentence length, batch size, embedding dim]\n",
        "        embedding_out = self.emb_dropout(self.embedding(words))\n",
        "\n",
        "        # lstm_out = [sentence length, batch size, hidden dim * 2]\n",
        "        lstm_out, _ = self.lstm(embedding_out)\n",
        "\n",
        "        # fc_out = [sentence length, batch size, output dim]\n",
        "        fc_out = self.fc(self.fc_dropout(lstm_out))\n",
        "\n",
        "        if tags is not None:\n",
        "            mask = tags != self.tag_pad_idx\n",
        "            crf_out = self.crf.decode(fc_out, mask=mask)\n",
        "            crf_loss = -self.crf(fc_out, tags=tags, mask=mask)\n",
        "        else:\n",
        "            crf_out = self.crf.decode(fc_out)\n",
        "            crf_loss = None\n",
        "\n",
        "        return crf_out , crf_loss\n",
        "\n",
        "\n",
        "\n",
        "    def init_crf_transitions(self, tag_names, imp_value=-100):\n",
        "        num_tags = len(tag_names)\n",
        "        for i in range(num_tags):\n",
        "            tag_name = tag_names[i]\n",
        "            # I and <pad> impossible au début\n",
        "            if tag_name[0] == \"I\" or tag_name == \"<pad>\":\n",
        "                torch.nn.init.constant_(self.crf.start_transitions[i], imp_value)\n",
        "        # transition impossible O - I\n",
        "        tag_is = {}\n",
        "        for tag_position in (\"B\", \"I\", \"O\"):\n",
        "            tag_is[tag_position] = [i for i, tag in enumerate(tag_names) if tag[0] == tag_position]\n",
        "        impossible_transitions_position = {\n",
        "            \"O\": \"I\"\n",
        "\n",
        "        }\n",
        "        for from_tag, to_tag_list in impossible_transitions_position.items():\n",
        "            to_tags = list(to_tag_list)\n",
        "\n",
        "            for from_tag_i in tag_is[from_tag]:\n",
        "                for to_tag in to_tags:\n",
        "                    for to_tag_i in tag_is[to_tag]:\n",
        "\n",
        "                        torch.nn.init.constant_(\n",
        "                            self.crf.transitions[from_tag_i, to_tag_i], imp_value\n",
        "                        )\n",
        "        # transitions impossibles entre différents types\n",
        "        impossible_transitions_tags = {\n",
        "            \"B\": \"I\",\n",
        "            \"I\": \"I\"\n",
        "        }\n",
        "        for from_tag, to_tag_list in impossible_transitions_tags.items():\n",
        "            to_tags = list(to_tag_list)\n",
        "            for from_tag_i in tag_is[from_tag]:\n",
        "                for to_tag in to_tags:\n",
        "                    for to_tag_i in tag_is[to_tag]:\n",
        "                        if tag_names[from_tag_i].split(\"-\")[1] != tag_names[to_tag_i].split(\"-\")[1]:\n",
        "                            torch.nn.init.constant_(\n",
        "                                self.crf.transitions[from_tag_i, to_tag_i], imp_value\n",
        "                            )\n",
        "\n",
        "    def count_parameters(self):\n",
        "        return sum(p.numel() for p in self.parameters() if p.requires_grad)"
      ]
    },
    {
      "cell_type": "code",
      "execution_count": 7,
      "metadata": {
        "colab": {
          "base_uri": "https://localhost:8080/"
        },
        "id": "Zb03iYctNAUM",
        "outputId": "933b9134-9598-44ca-cafa-73464b7030df"
      },
      "outputs": [
        {
          "name": "stdout",
          "output_type": "stream",
          "text": [
            "У модели 3,101,034 обучаемых параметров.\n"
          ]
        }
      ],
      "source": [
        "embedding_dim=100\n",
        "tag_pad_idx=TAG_PAD_IDX\n",
        "model = BiLSTM(\n",
        "    input_dim=len(TEXT.vocab),\n",
        "    embedding_dim=100,\n",
        "    hidden_dim=256,\n",
        "    output_dim=len(TAG.vocab),\n",
        "    lstm_layers=1,\n",
        "    emb_dropout=0.1,\n",
        "    lstm_dropout=0.1,\n",
        "    fc_dropout=0.1,\n",
        "    word_pad_idx=TEXT_PAD_IDX,\n",
        "    tag_pad_idx=TAG_PAD_IDX\n",
        ")\n",
        "def init_weights(m):\n",
        "    for name, param in m.named_parameters():\n",
        "        nn.init.normal_(param.data, mean = 0, std = 0.1)\n",
        "\n",
        "model.apply(init_weights)\n",
        "\n",
        "pretrained_embeddings = TEXT.vocab.vectors\n",
        "model.embedding.weight.data.copy_(pretrained_embeddings)\n",
        "model.embedding.weight.data[tag_pad_idx] = torch.zeros(embedding_dim)\n",
        "\n",
        "\n",
        "# CRF transitions initialisation\n",
        "model.init_crf_transitions(\n",
        "    tag_names=TAG.vocab.itos\n",
        ")\n",
        "\n",
        "print(f\"У модели {model.count_parameters():,} обучаемых параметров.\")\n"
      ]
    },
    {
      "cell_type": "markdown",
      "metadata": {
        "id": "lGsjeyHlyWhx"
      },
      "source": [
        "Мы можем получить доступ к матрице переходов и убедиться, что инициализация выполнена корректно:\n"
      ]
    },
    {
      "cell_type": "code",
      "execution_count": 8,
      "metadata": {
        "colab": {
          "base_uri": "https://localhost:8080/"
        },
        "id": "Wfe5T7dlrS2j",
        "outputId": "e9afb59c-aa8f-4ee1-9aaa-fb90f2d0673f"
      },
      "outputs": [
        {
          "name": "stdout",
          "output_type": "stream",
          "text": [
            "Start and end tag transitions:\n",
            "TAG   \tSTART\tEND\n",
            "<pad> \t-100.0\t-0.01\n",
            "O     \t-0.04\t-0.03\n",
            "B-LOC \t0.06\t-0.18\n",
            "B-PER \t0.02\t-0.04\n",
            "B-ORG \t0.05\t0.09\n",
            "I-PER \t-100.0\t0.1\n",
            "I-ORG \t-100.0\t0.1\n",
            "B-MISC\t-0.02\t0.07\n",
            "I-LOC \t-100.0\t0.1\n",
            "I-MISC\t-100.0\t0.09\n",
            "\n",
            "Between tags transitions:\n",
            "   TO\tO    \tB-PER\tI-PER\n",
            "FROM\n",
            "O    \t-0.01\t0.04 \t-100.0\n",
            "B-PER\t-0.15\t-0.06\t0.02 \n",
            "I-PER\t-0.06\t0.04 \t-0.03\n"
          ]
        }
      ],
      "source": [
        "def print_crf_transitions(c, m):\n",
        "    tags = TAG.vocab.itos\n",
        "    max_len_tag = max([len(tag) for tag in tags])\n",
        "    print(\"Start and end tag transitions:\")\n",
        "    print(f\"{'TAG'.ljust(max_len_tag)}\\tSTART\\tEND\")\n",
        "    for tag, start_prob, end_prob in zip(tags, m.crf.start_transitions.tolist(), m.crf.end_transitions.tolist()):\n",
        "        print(f\"{tag.ljust(max_len_tag)}\\t{round(start_prob, 2)}\\t{round(end_prob, 2)}\")\n",
        "    print()\n",
        "    print(\"Between tags transitions:\")\n",
        "    persons_i = [i for i, tag in enumerate(TAG.vocab.itos) if \"PER\" in tag or tag == \"O\"]\n",
        "    max_len_tag = max([len(tag) for tag in TAG.vocab.itos if \"PER\" in tag ])\n",
        "    transitions = m.crf.transitions\n",
        "    to_tags = \"TO\".rjust(max_len_tag) + \"\\t\" + \"\\t\".join([tag.ljust(max_len_tag) for tag in tags if \"PER\" in tag or tag == \"O\"])\n",
        "    print(to_tags)\n",
        "    print(\"FROM\")\n",
        "    for from_tag_i, from_tag_probs in enumerate(transitions[persons_i]):\n",
        "        to_tag_str = f\"{tags[persons_i[from_tag_i]].ljust(max_len_tag)}\"\n",
        "        for to_tag_prob in from_tag_probs[persons_i]:\n",
        "            to_tag_str += f\"\\t{str(round(to_tag_prob.item(), 2)).ljust(max_len_tag)}\"\n",
        "        print(to_tag_str)\n",
        "\n",
        "print_crf_transitions(TEXT, model)"
      ]
    },
    {
      "cell_type": "markdown",
      "metadata": {
        "id": "5lWbTw3yMiyr"
      },
      "source": [
        "## Обучение\n",
        "\n",
        "Модель возвращает два значения: список предсказаний и список потерь.  \n",
        "Мы учитываем эту особенность, изменяя функцию вычисления accuracy (точности).\n",
        "\n",
        "- Оптимизатор\n"
      ]
    },
    {
      "cell_type": "code",
      "execution_count": 9,
      "metadata": {
        "id": "lNju-li7XHHh"
      },
      "outputs": [],
      "source": [
        "def optimiseur(model, lr=1e-5, eps=1e-6, weight_decay_rate=0.001, second_weight_decay_rate=0.0):\n",
        "    param_optimizer = list(model.named_parameters())\n",
        "    no_decay = ['bias', 'gamma', 'beta']\n",
        "    optimizer_grouped_parameters = [\n",
        "        {'params': [p for n, p in param_optimizer if not any(nd in n for nd in no_decay)],\n",
        "            'weight_decay_rate': weight_decay_rate},\n",
        "        {'params': [p for n, p in param_optimizer if any(nd in n for nd in no_decay)],\n",
        "            'weight_decay_rate': second_weight_decay_rate}]\n",
        "    return optim.Adam(\n",
        "        optimizer_grouped_parameters,\n",
        "        lr=lr,\n",
        "        eps=eps\n",
        "    )\n",
        "\n",
        "optimizer = optimiseur(model, lr=1e-5, eps=1e-6, weight_decay_rate=0.001, second_weight_decay_rate=0.0)\n",
        "scheduler = optim.lr_scheduler.StepLR(optimizer, step_size=10, gamma=0.5)\n",
        "criterion = nn.CrossEntropyLoss(ignore_index = TAG_PAD_IDX)\n",
        "model = model.to(device)"
      ]
    },
    {
      "cell_type": "markdown",
      "metadata": {
        "id": "MC39UtslXHHh"
      },
      "source": [
        " - Метрики"
      ]
    },
    {
      "cell_type": "code",
      "execution_count": 10,
      "metadata": {
        "id": "vFxG-oKmXHHh"
      },
      "outputs": [],
      "source": [
        "from sklearn.metrics import f1_score, classification_report\n",
        "\n",
        "def f1_loss( preds, y, tag_pad_idx, full_report=False):\n",
        "    index_o = TAG.vocab.stoi[\"O\"]\n",
        "    positive_labels = [i for i in range(len(TAG.vocab.itos))\n",
        "                       if i not in (tag_pad_idx, index_o)]\n",
        "\n",
        "    flatten_preds = [pred for sent_pred in preds for pred in sent_pred]\n",
        "\n",
        "    positive_preds = [pred for pred in flatten_preds\n",
        "                      if pred not in (tag_pad_idx, index_o)]\n",
        "\n",
        "    flatten_y = [tag for sent_tag in y for tag in sent_tag]\n",
        "    if full_report:\n",
        "\n",
        "        positive_names = [TAG.vocab.itos[i]\n",
        "                              for i in range(len(TAG.vocab.itos))\n",
        "                              if i not in (tag_pad_idx, index_o)]\n",
        "        print(classification_report(\n",
        "                y_true=flatten_y,\n",
        "                y_pred=flatten_preds,\n",
        "                labels=positive_labels,\n",
        "                target_names=positive_names\n",
        "            ))\n",
        "\n",
        "    return f1_score(\n",
        "            y_true=flatten_y,\n",
        "            y_pred=flatten_preds,\n",
        "            labels=positive_labels,\n",
        "            average=\"micro\"\n",
        "        ), flatten_preds, flatten_y"
      ]
    },
    {
      "cell_type": "code",
      "execution_count": 11,
      "metadata": {
        "id": "m77BrecGXHHh"
      },
      "outputs": [],
      "source": [
        "def train(model, iterator, optimizer, tag_pad_idx):\n",
        "\n",
        "    epoch_loss = 0\n",
        "    epoch_f1 = 0\n",
        "    model.train()\n",
        "\n",
        "    for batch in iterator:\n",
        "\n",
        "        text = batch.text\n",
        "        tags = batch.tag\n",
        "\n",
        "        optimizer.zero_grad()\n",
        "\n",
        "        pred_tags_list, batch_loss = model(text, tags)\n",
        "\n",
        "        # pour calculer la loss et le score f1, on flatten true tags\n",
        "        true_tags_list = [\n",
        "                [tag for tag in sent_tag if tag != TAG_PAD_IDX]\n",
        "                for sent_tag in tags.permute(1, 0).tolist()\n",
        "            ]\n",
        "        f1,_,_ = f1_loss(pred_tags_list, true_tags_list, tag_pad_idx)\n",
        "\n",
        "        batch_loss.backward()\n",
        "\n",
        "        optimizer.step()\n",
        "        epoch_loss += batch_loss.item()\n",
        "        epoch_f1 += f1\n",
        "\n",
        "    return epoch_loss / len(iterator), epoch_f1 / len(iterator)\n",
        "\n",
        "def evaluate(model, iterator, tag_pad_idx,full_report):\n",
        "\n",
        "    epoch_loss = 0\n",
        "    epoch_f1 = 0\n",
        "\n",
        "    model.eval()\n",
        "    preds = []\n",
        "    labels = []\n",
        "    with torch.no_grad():\n",
        "\n",
        "        for batch in iterator:\n",
        "\n",
        "            text = batch.text\n",
        "            tags = batch.tag\n",
        "\n",
        "            pred_tags_list, batch_loss = model(text, tags)\n",
        "            true_tags_list = [\n",
        "                [tag for tag in sent_tag if tag != TAG_PAD_IDX]\n",
        "                for sent_tag in tags.permute(1, 0).tolist()\n",
        "                ]\n",
        "\n",
        "            f1, pred, lab = f1_loss(pred_tags_list, true_tags_list, tag_pad_idx, full_report)\n",
        "            preds.append(pred)\n",
        "            labels.append(lab)\n",
        "            epoch_loss += batch_loss.item()\n",
        "            epoch_f1 += f1\n",
        "\n",
        "    return epoch_loss / len(iterator), epoch_f1 / len(iterator),preds, labels"
      ]
    },
    {
      "cell_type": "markdown",
      "metadata": {
        "id": "XOfrodkZeXpE"
      },
      "source": [
        "\n",
        "\n",
        "```\n",
        "Epoch: 01 | Epoch Time: 0m 58s\n",
        "\tTrain Loss: 241.116 | Train F1 score: 3.01%\n",
        "\t Val. Loss: 166.222 |  Val. F1 score: 0.00%\n",
        "Epoch: 02 | Epoch Time: 0m 53s\n",
        "\tTrain Loss: 129.382 | Train F1 score: 0.63%\n",
        "\t Val. Loss: 152.273 |  Val. F1 score: 0.02%\n",
        "Epoch: 03 | Epoch Time: 1m 2s\n",
        "\tTrain Loss: 120.049 | Train F1 score: 1.81%\n",
        "\t Val. Loss: 140.780 |  Val. F1 score: 0.06%\n",
        "Epoch: 04 | Epoch Time: 0m 57s\n",
        "\tTrain Loss: 114.141 | Train F1 score: 2.86%\n",
        "\t Val. Loss: 133.491 |  Val. F1 score: 0.19%\n",
        "Epoch: 05 | Epoch Time: 0m 54s\n",
        "\tTrain Loss: 109.274 | Train F1 score: 4.14%\n",
        "\t Val. Loss: 124.549 |  Val. F1 score: 0.60%\n",
        "Epoch: 06 | Epoch Time: 0m 53s\n",
        "\tTrain Loss: 104.033 | Train F1 score: 6.44%\n",
        "\t Val. Loss: 118.140 |  Val. F1 score: 0.93%\n",
        "Epoch: 07 | Epoch Time: 0m 53s\n",
        "\tTrain Loss: 99.721 | Train F1 score: 8.20%\n",
        "\t Val. Loss: 111.239 |  Val. F1 score: 1.79%\n",
        "Epoch: 08 | Epoch Time: 0m 53s\n",
        "\tTrain Loss: 95.569 | Train F1 score: 11.03%\n",
        "\t Val. Loss: 103.776 |  Val. F1 score: 3.39%\n",
        "Epoch: 09 | Epoch Time: 0m 53s\n",
        "\tTrain Loss: 91.957 | Train F1 score: 13.15%\n",
        "\t Val. Loss: 98.588 |  Val. F1 score: 6.02%\n",
        "Epoch: 10 | Epoch Time: 0m 52s\n",
        "\tTrain Loss: 88.829 | Train F1 score: 15.47%\n",
        "\t Val. Loss: 95.323 |  Val. F1 score: 8.55%\n",
        "```\n",
        "\n"
      ]
    },
    {
      "cell_type": "code",
      "execution_count": 12,
      "metadata": {
        "colab": {
          "base_uri": "https://localhost:8080/",
          "height": 957
        },
        "id": "_fA42zRlXHHi",
        "outputId": "954dc178-504c-4827-ec6f-c95848dc1681"
      },
      "outputs": [
        {
          "name": "stdout",
          "output_type": "stream",
          "text": [
            "Epoch: 01 | Epoch Time: 1m 17s\n",
            "\tTrain Loss: 186.241 | Train F1 score: 3.37%\n",
            "\t Val. Loss: 130.382 |  Val. F1 score: 1.06%\n",
            "Epoch: 02 | Epoch Time: 1m 14s\n",
            "\tTrain Loss: 104.009 | Train F1 score: 6.53%\n",
            "\t Val. Loss: 106.353 |  Val. F1 score: 5.76%\n",
            "Epoch: 03 | Epoch Time: 1m 12s\n",
            "\tTrain Loss: 90.143 | Train F1 score: 14.13%\n",
            "\t Val. Loss: 93.258 |  Val. F1 score: 13.10%\n",
            "Epoch: 04 | Epoch Time: 1m 11s\n",
            "\tTrain Loss: 81.389 | Train F1 score: 21.70%\n",
            "\t Val. Loss: 84.611 |  Val. F1 score: 20.70%\n",
            "Epoch: 05 | Epoch Time: 1m 11s\n",
            "\tTrain Loss: 75.100 | Train F1 score: 28.07%\n",
            "\t Val. Loss: 78.923 |  Val. F1 score: 26.41%\n",
            "Epoch: 06 | Epoch Time: 1m 10s\n",
            "\tTrain Loss: 70.331 | Train F1 score: 33.05%\n",
            "\t Val. Loss: 74.322 |  Val. F1 score: 31.32%\n",
            "Epoch: 07 | Epoch Time: 1m 11s\n",
            "\tTrain Loss: 66.203 | Train F1 score: 37.53%\n",
            "\t Val. Loss: 70.568 |  Val. F1 score: 34.99%\n",
            "Epoch: 08 | Epoch Time: 1m 8s\n",
            "\tTrain Loss: 62.971 | Train F1 score: 40.81%\n",
            "\t Val. Loss: 67.445 |  Val. F1 score: 39.31%\n",
            "Epoch: 09 | Epoch Time: 1m 8s\n",
            "\tTrain Loss: 60.071 | Train F1 score: 45.04%\n",
            "\t Val. Loss: 65.142 |  Val. F1 score: 42.21%\n",
            "Epoch: 10 | Epoch Time: 1m 9s\n",
            "\tTrain Loss: 57.500 | Train F1 score: 46.98%\n",
            "\t Val. Loss: 62.518 |  Val. F1 score: 46.19%\n",
            "Epoch: 11 | Epoch Time: 1m 11s\n",
            "\tTrain Loss: 55.772 | Train F1 score: 49.45%\n",
            "\t Val. Loss: 61.966 |  Val. F1 score: 47.17%\n",
            "Epoch: 12 | Epoch Time: 1m 11s\n",
            "\tTrain Loss: 54.735 | Train F1 score: 50.40%\n",
            "\t Val. Loss: 61.276 |  Val. F1 score: 48.03%\n",
            "Epoch: 13 | Epoch Time: 1m 11s\n",
            "\tTrain Loss: 53.644 | Train F1 score: 52.00%\n",
            "\t Val. Loss: 60.400 |  Val. F1 score: 49.10%\n",
            "Epoch: 14 | Epoch Time: 1m 9s\n",
            "\tTrain Loss: 52.835 | Train F1 score: 52.86%\n",
            "\t Val. Loss: 59.544 |  Val. F1 score: 50.03%\n",
            "Epoch: 15 | Epoch Time: 1m 10s\n",
            "\tTrain Loss: 51.697 | Train F1 score: 54.28%\n",
            "\t Val. Loss: 59.082 |  Val. F1 score: 50.52%\n",
            "Epoch: 16 | Epoch Time: 1m 10s\n",
            "\tTrain Loss: 50.992 | Train F1 score: 54.56%\n",
            "\t Val. Loss: 58.311 |  Val. F1 score: 51.76%\n",
            "Epoch: 17 | Epoch Time: 1m 8s\n",
            "\tTrain Loss: 50.126 | Train F1 score: 55.98%\n",
            "\t Val. Loss: 57.942 |  Val. F1 score: 52.68%\n",
            "Epoch: 18 | Epoch Time: 1m 8s\n",
            "\tTrain Loss: 49.589 | Train F1 score: 56.77%\n",
            "\t Val. Loss: 57.261 |  Val. F1 score: 53.41%\n",
            "Epoch: 19 | Epoch Time: 1m 8s\n",
            "\tTrain Loss: 48.619 | Train F1 score: 57.50%\n",
            "\t Val. Loss: 56.776 |  Val. F1 score: 54.04%\n",
            "Epoch: 20 | Epoch Time: 1m 7s\n",
            "\tTrain Loss: 47.978 | Train F1 score: 58.13%\n",
            "\t Val. Loss: 56.553 |  Val. F1 score: 54.12%\n",
            "Epoch: 21 | Epoch Time: 1m 10s\n",
            "\tTrain Loss: 47.411 | Train F1 score: 59.14%\n",
            "\t Val. Loss: 55.806 |  Val. F1 score: 54.88%\n",
            "Epoch: 22 | Epoch Time: 1m 11s\n",
            "\tTrain Loss: 47.108 | Train F1 score: 58.74%\n",
            "\t Val. Loss: 55.476 |  Val. F1 score: 55.45%\n",
            "Epoch: 23 | Epoch Time: 1m 10s\n",
            "\tTrain Loss: 46.744 | Train F1 score: 59.07%\n",
            "\t Val. Loss: 55.504 |  Val. F1 score: 55.24%\n",
            "Epoch: 24 | Epoch Time: 1m 9s\n",
            "\tTrain Loss: 46.518 | Train F1 score: 59.87%\n",
            "\t Val. Loss: 55.259 |  Val. F1 score: 55.61%\n",
            "Epoch: 25 | Epoch Time: 1m 10s\n",
            "\tTrain Loss: 46.223 | Train F1 score: 60.04%\n",
            "\t Val. Loss: 54.995 |  Val. F1 score: 55.84%\n",
            "Epoch: 26 | Epoch Time: 1m 8s\n",
            "\tTrain Loss: 45.862 | Train F1 score: 60.41%\n",
            "\t Val. Loss: 54.765 |  Val. F1 score: 56.22%\n",
            "Epoch: 27 | Epoch Time: 1m 6s\n",
            "\tTrain Loss: 45.483 | Train F1 score: 60.85%\n",
            "\t Val. Loss: 54.797 |  Val. F1 score: 56.55%\n",
            "Epoch: 28 | Epoch Time: 1m 10s\n",
            "\tTrain Loss: 45.227 | Train F1 score: 61.11%\n",
            "\t Val. Loss: 54.637 |  Val. F1 score: 56.64%\n",
            "Epoch: 29 | Epoch Time: 1m 11s\n",
            "\tTrain Loss: 44.796 | Train F1 score: 61.30%\n",
            "\t Val. Loss: 54.403 |  Val. F1 score: 56.88%\n",
            "Epoch: 30 | Epoch Time: 1m 10s\n",
            "\tTrain Loss: 44.563 | Train F1 score: 61.77%\n",
            "\t Val. Loss: 54.456 |  Val. F1 score: 56.84%\n",
            "Epoch: 31 | Epoch Time: 1m 11s\n",
            "\tTrain Loss: 44.359 | Train F1 score: 61.95%\n",
            "\t Val. Loss: 54.125 |  Val. F1 score: 57.36%\n",
            "Epoch: 32 | Epoch Time: 1m 11s\n",
            "\tTrain Loss: 44.305 | Train F1 score: 61.59%\n",
            "\t Val. Loss: 53.882 |  Val. F1 score: 57.78%\n",
            "Epoch: 33 | Epoch Time: 1m 9s\n",
            "\tTrain Loss: 44.116 | Train F1 score: 62.38%\n",
            "\t Val. Loss: 53.912 |  Val. F1 score: 57.74%\n",
            "Epoch: 34 | Epoch Time: 1m 7s\n",
            "\tTrain Loss: 43.835 | Train F1 score: 62.29%\n",
            "\t Val. Loss: 53.870 |  Val. F1 score: 57.80%\n",
            "Epoch: 35 | Epoch Time: 1m 10s\n",
            "\tTrain Loss: 43.866 | Train F1 score: 62.34%\n",
            "\t Val. Loss: 53.556 |  Val. F1 score: 58.08%\n",
            "Epoch: 36 | Epoch Time: 1m 10s\n",
            "\tTrain Loss: 43.703 | Train F1 score: 62.48%\n",
            "\t Val. Loss: 53.707 |  Val. F1 score: 58.21%\n",
            "Epoch: 37 | Epoch Time: 1m 11s\n",
            "\tTrain Loss: 43.547 | Train F1 score: 62.53%\n",
            "\t Val. Loss: 53.760 |  Val. F1 score: 57.98%\n",
            "Epoch: 38 | Epoch Time: 1m 10s\n",
            "\tTrain Loss: 43.425 | Train F1 score: 62.35%\n",
            "\t Val. Loss: 53.284 |  Val. F1 score: 58.47%\n",
            "Epoch: 39 | Epoch Time: 1m 10s\n",
            "\tTrain Loss: 43.279 | Train F1 score: 63.16%\n",
            "\t Val. Loss: 53.582 |  Val. F1 score: 58.30%\n",
            "Epoch: 40 | Epoch Time: 1m 11s\n",
            "\tTrain Loss: 43.233 | Train F1 score: 62.89%\n",
            "\t Val. Loss: 53.473 |  Val. F1 score: 58.66%\n",
            "Epoch: 41 | Epoch Time: 1m 11s\n",
            "\tTrain Loss: 43.070 | Train F1 score: 62.73%\n",
            "\t Val. Loss: 53.289 |  Val. F1 score: 58.66%\n",
            "Epoch: 42 | Epoch Time: 1m 9s\n",
            "\tTrain Loss: 43.012 | Train F1 score: 63.27%\n",
            "\t Val. Loss: 53.213 |  Val. F1 score: 58.86%\n",
            "Epoch: 43 | Epoch Time: 1m 8s\n",
            "\tTrain Loss: 42.875 | Train F1 score: 62.87%\n",
            "\t Val. Loss: 53.083 |  Val. F1 score: 59.00%\n",
            "Epoch: 44 | Epoch Time: 1m 9s\n",
            "\tTrain Loss: 42.883 | Train F1 score: 63.31%\n",
            "\t Val. Loss: 53.140 |  Val. F1 score: 58.99%\n",
            "Epoch: 45 | Epoch Time: 1m 10s\n",
            "\tTrain Loss: 42.780 | Train F1 score: 63.17%\n",
            "\t Val. Loss: 53.251 |  Val. F1 score: 58.92%\n",
            "Epoch: 46 | Epoch Time: 1m 10s\n",
            "\tTrain Loss: 42.662 | Train F1 score: 63.44%\n",
            "\t Val. Loss: 53.043 |  Val. F1 score: 59.06%\n",
            "Epoch: 47 | Epoch Time: 1m 10s\n",
            "\tTrain Loss: 42.774 | Train F1 score: 63.06%\n",
            "\t Val. Loss: 52.947 |  Val. F1 score: 59.24%\n",
            "Epoch: 48 | Epoch Time: 1m 9s\n",
            "\tTrain Loss: 42.553 | Train F1 score: 63.45%\n",
            "\t Val. Loss: 52.947 |  Val. F1 score: 59.14%\n",
            "Epoch: 49 | Epoch Time: 1m 11s\n",
            "\tTrain Loss: 42.620 | Train F1 score: 63.78%\n",
            "\t Val. Loss: 52.913 |  Val. F1 score: 59.20%\n",
            "Epoch: 50 | Epoch Time: 1m 10s\n",
            "\tTrain Loss: 42.544 | Train F1 score: 63.48%\n",
            "\t Val. Loss: 53.023 |  Val. F1 score: 59.03%\n"
          ]
        }
      ],
      "source": [
        "def epoch_time(start_time, end_time):\n",
        "    elapsed_time = end_time - start_time\n",
        "    elapsed_mins = int(elapsed_time / 60)\n",
        "    elapsed_secs = int(elapsed_time - (elapsed_mins * 60))\n",
        "    return elapsed_mins, elapsed_secs\n",
        "\n",
        "N_EPOCHS = 50\n",
        "\n",
        "t_loss = []\n",
        "t_f1 = []\n",
        "v_loss = []\n",
        "v_f1 = []\n",
        "\n",
        "best_valid_loss = float('inf')\n",
        "\n",
        "for epoch in range(N_EPOCHS):\n",
        "\n",
        "    start_time = time.time()\n",
        "\n",
        "\n",
        "    train_loss, train_f1 = train(model, train_iterator, optimizer, TAG_PAD_IDX)\n",
        "    t_loss.append(train_loss)\n",
        "    t_f1.append(train_f1)\n",
        "\n",
        "    valid_loss, valid_f1,_,_ = evaluate(model, valid_iterator, TAG_PAD_IDX, full_report= False)\n",
        "    v_loss.append(valid_loss)\n",
        "    v_f1.append(valid_f1)\n",
        "\n",
        "    scheduler.step()\n",
        "    end_time = time.time()\n",
        "\n",
        "    epoch_mins, epoch_secs = epoch_time(start_time, end_time)\n",
        "\n",
        "    if valid_loss < best_valid_loss:\n",
        "        best_valid_loss = valid_loss\n",
        "        torch.save(model.state_dict(), 'tut3-model_conll.pt')\n",
        "\n",
        "\n",
        "    if epoch%1 == 0:\n",
        "        print(f'Epoch: {epoch+1:02} | Epoch Time: {epoch_mins}m {epoch_secs}s')\n",
        "        print(f'\\tTrain Loss: {train_loss:.3f} | Train F1 score: {train_f1*100:.2f}%')\n",
        "        print(f'\\t Val. Loss: {valid_loss:.3f} |  Val. F1 score: {valid_f1*100:.2f}%')"
      ]
    },
    {
      "cell_type": "code",
      "execution_count": 13,
      "metadata": {
        "colab": {
          "base_uri": "https://localhost:8080/",
          "height": 494
        },
        "id": "StI1POlxXHHi",
        "outputId": "6cab820d-d183-4cf8-8668-5bea370518c8"
      },
      "outputs": [
        {
          "ename": "ValueError",
          "evalue": "x and y must have same first dimension, but have shapes (12,) and (50,)",
          "output_type": "error",
          "traceback": [
            "\u001b[0;31m---------------------------------------------------------------------------\u001b[0m",
            "\u001b[0;31mValueError\u001b[0m                                Traceback (most recent call last)",
            "Cell \u001b[0;32mIn[13], line 8\u001b[0m\n\u001b[1;32m      5\u001b[0m N_EPOCHS_real \u001b[38;5;241m=\u001b[39m \u001b[38;5;241m12\u001b[39m\n\u001b[1;32m      6\u001b[0m x \u001b[38;5;241m=\u001b[39m np\u001b[38;5;241m.\u001b[39mlinspace(\u001b[38;5;241m0\u001b[39m, N_EPOCHS_real, N_EPOCHS_real)\n\u001b[0;32m----> 8\u001b[0m \u001b[43mplt\u001b[49m\u001b[38;5;241;43m.\u001b[39;49m\u001b[43mplot\u001b[49m\u001b[43m(\u001b[49m\u001b[43mx\u001b[49m\u001b[43m,\u001b[49m\u001b[43mt_loss\u001b[49m\u001b[43m)\u001b[49m\n\u001b[1;32m      9\u001b[0m plt\u001b[38;5;241m.\u001b[39mplot(x,v_loss)\n\u001b[1;32m     10\u001b[0m plt\u001b[38;5;241m.\u001b[39mtitle(\u001b[38;5;124m\"\u001b[39m\u001b[38;5;124mLoss\u001b[39m\u001b[38;5;124m\"\u001b[39m)\n",
            "File \u001b[0;32m~/work/testing/eval-env/lib/python3.9/site-packages/matplotlib/pyplot.py:3794\u001b[0m, in \u001b[0;36mplot\u001b[0;34m(scalex, scaley, data, *args, **kwargs)\u001b[0m\n\u001b[1;32m   3786\u001b[0m \u001b[38;5;129m@_copy_docstring_and_deprecators\u001b[39m(Axes\u001b[38;5;241m.\u001b[39mplot)\n\u001b[1;32m   3787\u001b[0m \u001b[38;5;28;01mdef\u001b[39;00m\u001b[38;5;250m \u001b[39m\u001b[38;5;21mplot\u001b[39m(\n\u001b[1;32m   3788\u001b[0m     \u001b[38;5;241m*\u001b[39margs: \u001b[38;5;28mfloat\u001b[39m \u001b[38;5;241m|\u001b[39m ArrayLike \u001b[38;5;241m|\u001b[39m \u001b[38;5;28mstr\u001b[39m,\n\u001b[0;32m   (...)\u001b[0m\n\u001b[1;32m   3792\u001b[0m     \u001b[38;5;241m*\u001b[39m\u001b[38;5;241m*\u001b[39mkwargs,\n\u001b[1;32m   3793\u001b[0m ) \u001b[38;5;241m-\u001b[39m\u001b[38;5;241m>\u001b[39m \u001b[38;5;28mlist\u001b[39m[Line2D]:\n\u001b[0;32m-> 3794\u001b[0m     \u001b[38;5;28;01mreturn\u001b[39;00m \u001b[43mgca\u001b[49m\u001b[43m(\u001b[49m\u001b[43m)\u001b[49m\u001b[38;5;241;43m.\u001b[39;49m\u001b[43mplot\u001b[49m\u001b[43m(\u001b[49m\n\u001b[1;32m   3795\u001b[0m \u001b[43m        \u001b[49m\u001b[38;5;241;43m*\u001b[39;49m\u001b[43margs\u001b[49m\u001b[43m,\u001b[49m\n\u001b[1;32m   3796\u001b[0m \u001b[43m        \u001b[49m\u001b[43mscalex\u001b[49m\u001b[38;5;241;43m=\u001b[39;49m\u001b[43mscalex\u001b[49m\u001b[43m,\u001b[49m\n\u001b[1;32m   3797\u001b[0m \u001b[43m        \u001b[49m\u001b[43mscaley\u001b[49m\u001b[38;5;241;43m=\u001b[39;49m\u001b[43mscaley\u001b[49m\u001b[43m,\u001b[49m\n\u001b[1;32m   3798\u001b[0m \u001b[43m        \u001b[49m\u001b[38;5;241;43m*\u001b[39;49m\u001b[38;5;241;43m*\u001b[39;49m\u001b[43m(\u001b[49m\u001b[43m{\u001b[49m\u001b[38;5;124;43m\"\u001b[39;49m\u001b[38;5;124;43mdata\u001b[39;49m\u001b[38;5;124;43m\"\u001b[39;49m\u001b[43m:\u001b[49m\u001b[43m \u001b[49m\u001b[43mdata\u001b[49m\u001b[43m}\u001b[49m\u001b[43m \u001b[49m\u001b[38;5;28;43;01mif\u001b[39;49;00m\u001b[43m \u001b[49m\u001b[43mdata\u001b[49m\u001b[43m \u001b[49m\u001b[38;5;129;43;01mis\u001b[39;49;00m\u001b[43m \u001b[49m\u001b[38;5;129;43;01mnot\u001b[39;49;00m\u001b[43m \u001b[49m\u001b[38;5;28;43;01mNone\u001b[39;49;00m\u001b[43m \u001b[49m\u001b[38;5;28;43;01melse\u001b[39;49;00m\u001b[43m \u001b[49m\u001b[43m{\u001b[49m\u001b[43m}\u001b[49m\u001b[43m)\u001b[49m\u001b[43m,\u001b[49m\n\u001b[1;32m   3799\u001b[0m \u001b[43m        \u001b[49m\u001b[38;5;241;43m*\u001b[39;49m\u001b[38;5;241;43m*\u001b[39;49m\u001b[43mkwargs\u001b[49m\u001b[43m,\u001b[49m\n\u001b[1;32m   3800\u001b[0m \u001b[43m    \u001b[49m\u001b[43m)\u001b[49m\n",
            "File \u001b[0;32m~/work/testing/eval-env/lib/python3.9/site-packages/matplotlib/axes/_axes.py:1779\u001b[0m, in \u001b[0;36mAxes.plot\u001b[0;34m(self, scalex, scaley, data, *args, **kwargs)\u001b[0m\n\u001b[1;32m   1536\u001b[0m \u001b[38;5;250m\u001b[39m\u001b[38;5;124;03m\"\"\"\u001b[39;00m\n\u001b[1;32m   1537\u001b[0m \u001b[38;5;124;03mPlot y versus x as lines and/or markers.\u001b[39;00m\n\u001b[1;32m   1538\u001b[0m \n\u001b[0;32m   (...)\u001b[0m\n\u001b[1;32m   1776\u001b[0m \u001b[38;5;124;03m(``'green'``) or hex strings (``'#008000'``).\u001b[39;00m\n\u001b[1;32m   1777\u001b[0m \u001b[38;5;124;03m\"\"\"\u001b[39;00m\n\u001b[1;32m   1778\u001b[0m kwargs \u001b[38;5;241m=\u001b[39m cbook\u001b[38;5;241m.\u001b[39mnormalize_kwargs(kwargs, mlines\u001b[38;5;241m.\u001b[39mLine2D)\n\u001b[0;32m-> 1779\u001b[0m lines \u001b[38;5;241m=\u001b[39m [\u001b[38;5;241m*\u001b[39m\u001b[38;5;28mself\u001b[39m\u001b[38;5;241m.\u001b[39m_get_lines(\u001b[38;5;28mself\u001b[39m, \u001b[38;5;241m*\u001b[39margs, data\u001b[38;5;241m=\u001b[39mdata, \u001b[38;5;241m*\u001b[39m\u001b[38;5;241m*\u001b[39mkwargs)]\n\u001b[1;32m   1780\u001b[0m \u001b[38;5;28;01mfor\u001b[39;00m line \u001b[38;5;129;01min\u001b[39;00m lines:\n\u001b[1;32m   1781\u001b[0m     \u001b[38;5;28mself\u001b[39m\u001b[38;5;241m.\u001b[39madd_line(line)\n",
            "File \u001b[0;32m~/work/testing/eval-env/lib/python3.9/site-packages/matplotlib/axes/_base.py:296\u001b[0m, in \u001b[0;36m_process_plot_var_args.__call__\u001b[0;34m(self, axes, data, *args, **kwargs)\u001b[0m\n\u001b[1;32m    294\u001b[0m     this \u001b[38;5;241m+\u001b[39m\u001b[38;5;241m=\u001b[39m args[\u001b[38;5;241m0\u001b[39m],\n\u001b[1;32m    295\u001b[0m     args \u001b[38;5;241m=\u001b[39m args[\u001b[38;5;241m1\u001b[39m:]\n\u001b[0;32m--> 296\u001b[0m \u001b[38;5;28;01myield from\u001b[39;00m \u001b[38;5;28;43mself\u001b[39;49m\u001b[38;5;241;43m.\u001b[39;49m\u001b[43m_plot_args\u001b[49m\u001b[43m(\u001b[49m\n\u001b[1;32m    297\u001b[0m \u001b[43m    \u001b[49m\u001b[43maxes\u001b[49m\u001b[43m,\u001b[49m\u001b[43m \u001b[49m\u001b[43mthis\u001b[49m\u001b[43m,\u001b[49m\u001b[43m \u001b[49m\u001b[43mkwargs\u001b[49m\u001b[43m,\u001b[49m\u001b[43m \u001b[49m\u001b[43mambiguous_fmt_datakey\u001b[49m\u001b[38;5;241;43m=\u001b[39;49m\u001b[43mambiguous_fmt_datakey\u001b[49m\u001b[43m)\u001b[49m\n",
            "File \u001b[0;32m~/work/testing/eval-env/lib/python3.9/site-packages/matplotlib/axes/_base.py:486\u001b[0m, in \u001b[0;36m_process_plot_var_args._plot_args\u001b[0;34m(self, axes, tup, kwargs, return_kwargs, ambiguous_fmt_datakey)\u001b[0m\n\u001b[1;32m    483\u001b[0m     axes\u001b[38;5;241m.\u001b[39myaxis\u001b[38;5;241m.\u001b[39mupdate_units(y)\n\u001b[1;32m    485\u001b[0m \u001b[38;5;28;01mif\u001b[39;00m x\u001b[38;5;241m.\u001b[39mshape[\u001b[38;5;241m0\u001b[39m] \u001b[38;5;241m!=\u001b[39m y\u001b[38;5;241m.\u001b[39mshape[\u001b[38;5;241m0\u001b[39m]:\n\u001b[0;32m--> 486\u001b[0m     \u001b[38;5;28;01mraise\u001b[39;00m \u001b[38;5;167;01mValueError\u001b[39;00m(\u001b[38;5;124mf\u001b[39m\u001b[38;5;124m\"\u001b[39m\u001b[38;5;124mx and y must have same first dimension, but \u001b[39m\u001b[38;5;124m\"\u001b[39m\n\u001b[1;32m    487\u001b[0m                      \u001b[38;5;124mf\u001b[39m\u001b[38;5;124m\"\u001b[39m\u001b[38;5;124mhave shapes \u001b[39m\u001b[38;5;132;01m{\u001b[39;00mx\u001b[38;5;241m.\u001b[39mshape\u001b[38;5;132;01m}\u001b[39;00m\u001b[38;5;124m and \u001b[39m\u001b[38;5;132;01m{\u001b[39;00my\u001b[38;5;241m.\u001b[39mshape\u001b[38;5;132;01m}\u001b[39;00m\u001b[38;5;124m\"\u001b[39m)\n\u001b[1;32m    488\u001b[0m \u001b[38;5;28;01mif\u001b[39;00m x\u001b[38;5;241m.\u001b[39mndim \u001b[38;5;241m>\u001b[39m \u001b[38;5;241m2\u001b[39m \u001b[38;5;129;01mor\u001b[39;00m y\u001b[38;5;241m.\u001b[39mndim \u001b[38;5;241m>\u001b[39m \u001b[38;5;241m2\u001b[39m:\n\u001b[1;32m    489\u001b[0m     \u001b[38;5;28;01mraise\u001b[39;00m \u001b[38;5;167;01mValueError\u001b[39;00m(\u001b[38;5;124mf\u001b[39m\u001b[38;5;124m\"\u001b[39m\u001b[38;5;124mx and y can be no greater than 2D, but have \u001b[39m\u001b[38;5;124m\"\u001b[39m\n\u001b[1;32m    490\u001b[0m                      \u001b[38;5;124mf\u001b[39m\u001b[38;5;124m\"\u001b[39m\u001b[38;5;124mshapes \u001b[39m\u001b[38;5;132;01m{\u001b[39;00mx\u001b[38;5;241m.\u001b[39mshape\u001b[38;5;132;01m}\u001b[39;00m\u001b[38;5;124m and \u001b[39m\u001b[38;5;132;01m{\u001b[39;00my\u001b[38;5;241m.\u001b[39mshape\u001b[38;5;132;01m}\u001b[39;00m\u001b[38;5;124m\"\u001b[39m)\n",
            "\u001b[0;31mValueError\u001b[0m: x and y must have same first dimension, but have shapes (12,) and (50,)"
          ]
        },
        {
          "data": {
            "image/png": "[encoded data removed]",
            "text/plain": [
              "<Figure size 640x480 with 1 Axes>"
            ]
          },
          "metadata": {},
          "output_type": "display_data"
        }
      ],
      "source": [
        "import seaborn as sns\n",
        "import matplotlib.pyplot as plt\n",
        "import numpy as np\n",
        "sns.set()\n",
        "N_EPOCHS_real = 12\n",
        "x = np.linspace(0, N_EPOCHS_real, N_EPOCHS_real)\n",
        "\n",
        "plt.plot(x,t_loss)\n",
        "plt.plot(x,v_loss)\n",
        "plt.title(\"Loss\")\n",
        "plt.legend([\"Train loss\", \"Valid loss\"])"
      ]
    },
    {
      "cell_type": "code",
      "execution_count": null,
      "metadata": {
        "id": "HJfvVaksXHHj",
        "outputId": "49553159-2e27-4b5e-86c3-3381d93f5beb"
      },
      "outputs": [
        {
          "data": {
            "text/plain": [
              "<matplotlib.legend.Legend at 0x7f703dbe3bd0>"
            ]
          },
          "execution_count": 11,
          "metadata": {},
          "output_type": "execute_result"
        },
        {
          "data": {
            "image/png": "[encoded data removed]",
            "text/plain": [
              "<Figure size 432x288 with 1 Axes>"
            ]
          },
          "metadata": {},
          "output_type": "display_data"
        }
      ],
      "source": [
        "x = np.linspace(0, N_EPOCHS_real,N_EPOCHS_real)\n",
        "\n",
        "plt.plot(x,t_f1)\n",
        "plt.plot(x,v_f1)\n",
        "plt.title(\"F1 score\")\n",
        "plt.legend([\"Train F1\", \"Valid F1\"])"
      ]
    },
    {
      "cell_type": "code",
      "execution_count": null,
      "metadata": {
        "id": "XwJbyZ9HXHHj",
        "outputId": "ad6edd1a-5388-4af1-c440-286727415353"
      },
      "outputs": [
        {
          "name": "stdout",
          "output_type": "stream",
          "text": [
            "Test Loss: 51.947 |  Test F1 score: 52.48%\n"
          ]
        }
      ],
      "source": [
        "from sklearn.metrics import confusion_matrix, precision_recall_fscore_support\n",
        "model.load_state_dict(torch.load('tut3-model_conll.pt'))\n",
        "\n",
        "test_loss, test_f1, preds, labels = evaluate(model, test_iterator, TAG_PAD_IDX, full_report=False)\n",
        "print(f'Test Loss: {test_loss:.3f} |  Test F1 score: {test_f1*100:.2f}%')"
      ]
    },
    {
      "cell_type": "code",
      "execution_count": null,
      "metadata": {
        "id": "cykzd-8IXHHj"
      },
      "outputs": [],
      "source": [
        "predict =  [item for sublist in preds for item in sublist]\n",
        "true =  [item for sublist in labels for item in sublist]\n",
        "confusion = confusion_matrix(true, predict)"
      ]
    },
    {
      "cell_type": "markdown",
      "metadata": {
        "id": "XubyQrpLXHHj"
      },
      "source": [
        "### Матрица ошибок\n"
      ]
    },
    {
      "cell_type": "code",
      "execution_count": null,
      "metadata": {
        "id": "RWGcLPg0XHHj",
        "outputId": "0aff5217-5376-44fd-d307-cd868f75b352"
      },
      "outputs": [
        {
          "data": {
            "text/html": [
              "<div>\n",
              "<style scoped>\n",
              "    .dataframe tbody tr th:only-of-type {\n",
              "        vertical-align: middle;\n",
              "    }\n",
              "\n",
              "    .dataframe tbody tr th {\n",
              "        vertical-align: top;\n",
              "    }\n",
              "\n",
              "    .dataframe thead th {\n",
              "        text-align: right;\n",
              "    }\n",
              "</style>\n",
              "<table border=\"1\" class=\"dataframe\">\n",
              "  <thead>\n",
              "    <tr style=\"text-align: right;\">\n",
              "      <th></th>\n",
              "      <th>O</th>\n",
              "      <th>LOC</th>\n",
              "      <th>PER</th>\n",
              "      <th>ORG</th>\n",
              "      <th>MISC</th>\n",
              "    </tr>\n",
              "  </thead>\n",
              "  <tbody>\n",
              "    <tr>\n",
              "      <th>O</th>\n",
              "      <td>38178</td>\n",
              "      <td>49</td>\n",
              "      <td>144</td>\n",
              "      <td>101</td>\n",
              "      <td>48</td>\n",
              "    </tr>\n",
              "    <tr>\n",
              "      <th>LOC</th>\n",
              "      <td>794</td>\n",
              "      <td>937</td>\n",
              "      <td>74</td>\n",
              "      <td>99</td>\n",
              "      <td>20</td>\n",
              "    </tr>\n",
              "    <tr>\n",
              "      <th>PER</th>\n",
              "      <td>1282</td>\n",
              "      <td>25</td>\n",
              "      <td>1346</td>\n",
              "      <td>106</td>\n",
              "      <td>12</td>\n",
              "    </tr>\n",
              "    <tr>\n",
              "      <th>ORG</th>\n",
              "      <td>969</td>\n",
              "      <td>149</td>\n",
              "      <td>209</td>\n",
              "      <td>1115</td>\n",
              "      <td>51</td>\n",
              "    </tr>\n",
              "    <tr>\n",
              "      <th>MISC</th>\n",
              "      <td>524</td>\n",
              "      <td>35</td>\n",
              "      <td>28</td>\n",
              "      <td>46</td>\n",
              "      <td>282</td>\n",
              "    </tr>\n",
              "  </tbody>\n",
              "</table>\n",
              "</div>"
            ],
            "text/plain": [
              "          O  LOC   PER   ORG  MISC\n",
              "O     38178   49   144   101    48\n",
              "LOC     794  937    74    99    20\n",
              "PER    1282   25  1346   106    12\n",
              "ORG     969  149   209  1115    51\n",
              "MISC    524   35    28    46   282"
            ]
          },
          "execution_count": 18,
          "metadata": {},
          "output_type": "execute_result"
        }
      ],
      "source": [
        "confusion_df =pd.DataFrame(confusion)\n",
        "\n",
        "confusion_df.columns=[i for i in TAG.vocab.itos]\n",
        "s = pd.Series([i for i in TAG.vocab.itos])\n",
        "confusion_df = confusion_df.set_index([s])\n",
        "\n",
        "confusion_df['LOC'] = confusion_df['B-LOC'] + confusion_df['I-LOC']\n",
        "confusion_df['PER'] = confusion_df['B-PER'] + confusion_df['I-PER']\n",
        "confusion_df['ORG'] = confusion_df['B-ORG'] + confusion_df['I-ORG']\n",
        "confusion_df['MISC'] = confusion_df['B-MISC'] + confusion_df['I-MISC']\n",
        "\n",
        "\n",
        "confusion_df = confusion_df.drop(columns=[ i for i in TAG.vocab.itos if i != 'O'])\n",
        "\n",
        "confusion_df.loc['LOC'] = confusion_df.loc['B-LOC'] + confusion_df.loc['I-LOC']\n",
        "confusion_df.loc['PER'] = confusion_df.loc['B-PER'] + confusion_df.loc['I-PER']\n",
        "confusion_df.loc['ORG'] = confusion_df.loc['B-ORG'] + confusion_df.loc['I-ORG']\n",
        "confusion_df.loc['MISC'] = confusion_df.loc['B-MISC'] + confusion_df.loc['I-MISC']\n",
        "\n",
        "confusion_df = confusion_df.drop([i for i in TAG.vocab.itos if i != 'O'  ])\n",
        "\n",
        "confusion_df"
      ]
    },
    {
      "cell_type": "markdown",
      "metadata": {
        "id": "UgpzcOaVXHHk"
      },
      "source": [
        "### Precision-Recall-F1Score"
      ]
    },
    {
      "cell_type": "code",
      "execution_count": null,
      "metadata": {
        "id": "jXmfXOIsXHHk",
        "outputId": "4e37e59a-b204-4f5f-fad2-cffc85dc1f19"
      },
      "outputs": [
        {
          "data": {
            "text/html": [
              "<div>\n",
              "<style scoped>\n",
              "    .dataframe tbody tr th:only-of-type {\n",
              "        vertical-align: middle;\n",
              "    }\n",
              "\n",
              "    .dataframe tbody tr th {\n",
              "        vertical-align: top;\n",
              "    }\n",
              "\n",
              "    .dataframe thead th {\n",
              "        text-align: right;\n",
              "    }\n",
              "</style>\n",
              "<table border=\"1\" class=\"dataframe\">\n",
              "  <thead>\n",
              "    <tr style=\"text-align: right;\">\n",
              "      <th></th>\n",
              "      <th>Precision</th>\n",
              "      <th>Recall</th>\n",
              "      <th>F1-score</th>\n",
              "    </tr>\n",
              "  </thead>\n",
              "  <tbody>\n",
              "    <tr>\n",
              "      <th>O</th>\n",
              "      <td>0.914509</td>\n",
              "      <td>0.991121</td>\n",
              "      <td>0.951275</td>\n",
              "    </tr>\n",
              "    <tr>\n",
              "      <th>LOC</th>\n",
              "      <td>0.784100</td>\n",
              "      <td>0.487006</td>\n",
              "      <td>0.600834</td>\n",
              "    </tr>\n",
              "    <tr>\n",
              "      <th>PER</th>\n",
              "      <td>0.747363</td>\n",
              "      <td>0.485745</td>\n",
              "      <td>0.588801</td>\n",
              "    </tr>\n",
              "    <tr>\n",
              "      <th>ORG</th>\n",
              "      <td>0.760055</td>\n",
              "      <td>0.447252</td>\n",
              "      <td>0.563131</td>\n",
              "    </tr>\n",
              "    <tr>\n",
              "      <th>MISC</th>\n",
              "      <td>0.682809</td>\n",
              "      <td>0.308197</td>\n",
              "      <td>0.424699</td>\n",
              "    </tr>\n",
              "  </tbody>\n",
              "</table>\n",
              "</div>"
            ],
            "text/plain": [
              "      Precision    Recall  F1-score\n",
              "O      0.914509  0.991121  0.951275\n",
              "LOC    0.784100  0.487006  0.600834\n",
              "PER    0.747363  0.485745  0.588801\n",
              "ORG    0.760055  0.447252  0.563131\n",
              "MISC   0.682809  0.308197  0.424699"
            ]
          },
          "execution_count": 19,
          "metadata": {},
          "output_type": "execute_result"
        }
      ],
      "source": [
        "cm = confusion_df.to_numpy()\n",
        "\n",
        "TP = np.diag(cm)\n",
        "FP = np.sum(cm, axis=0) - TP\n",
        "FN = np.sum(cm, axis=1) - TP\n",
        "\n",
        "num_classes = 4\n",
        "TN = []\n",
        "for i in range(num_classes):\n",
        "    temp = np.delete(cm, i, 0)\n",
        "    temp = np.delete(temp, i, 1)\n",
        "    TN.append(sum(sum(temp)))\n",
        "\n",
        "precision = TP/(TP+FP)\n",
        "recall = TP/(TP+FN)\n",
        "f1 = (2*precision*recall)/(precision+recall)\n",
        "\n",
        "prf_df =pd.DataFrame()\n",
        "prf_df['Precision'] = precision\n",
        "prf_df['Recall'] = recall\n",
        "prf_df['F1-score'] = f1\n",
        "\n",
        "s = pd.Series([i for i in confusion_df.index])\n",
        "prf_df = prf_df.set_index([s])\n",
        "\n",
        "prf_df"
      ]
    },
    {
      "cell_type": "markdown",
      "metadata": {
        "id": "sPbdtiKMXHHk"
      },
      "source": [
        "## Инференс"
      ]
    },
    {
      "cell_type": "code",
      "execution_count": null,
      "metadata": {
        "id": "TjMnCodQXHHk"
      },
      "outputs": [],
      "source": [
        "def tag_sentence(model, device, sentence, text_field, tag_field):\n",
        "\n",
        "    model.eval()\n",
        "\n",
        "    if isinstance(sentence, str):\n",
        "        nlp = spacy.load('en')\n",
        "        tokens = [token.text for token in nlp(sentence)]\n",
        "    else:\n",
        "        tokens = [token for token in sentence]\n",
        "\n",
        "    if text_field.lower:\n",
        "        tokens = [t.lower() for t in tokens]\n",
        "\n",
        "    max_word_len = max([len(token) for token in tokens])\n",
        "\n",
        "    numericalized_tokens = [text_field.vocab.stoi[t] for t in tokens]\n",
        "    unk_idx = text_field.vocab.stoi[text_field.unk_token]\n",
        "    unks = [t for t, n in zip(tokens, numericalized_tokens) if n == unk_idx]\n",
        "\n",
        "    token_tensor = torch.as_tensor(numericalized_tokens)\n",
        "    token_tensor = token_tensor.unsqueeze(-1).to(device)\n",
        "\n",
        "    predictions, _ = model(token_tensor)\n",
        "    predicted_tags = [tag_field.vocab.itos[t] for t in predictions[0]]\n",
        "\n",
        "    return tokens, predicted_tags, unks"
      ]
    },
    {
      "cell_type": "code",
      "execution_count": null,
      "metadata": {
        "id": "KySUObzEXHHl",
        "outputId": "917ef476-2172-4d01-9d47-b6b36f8d4697"
      },
      "outputs": [
        {
          "name": "stdout",
          "output_type": "stream",
          "text": [
            "['Trailing', 'by', '213', ',', 'Somerset', 'got', 'a', 'solid', 'start', 'to', 'their', 'second', 'innings', 'before', 'Simmons', 'stepped', 'in', 'to', 'bundle', 'them', 'out', 'for', '174', '.']\n",
            "['O', 'O', 'O', 'O', 'B-ORG', 'O', 'O', 'O', 'O', 'O', 'O', 'O', 'O', 'O', 'B-PER', 'O', 'O', 'O', 'O', 'O', 'O', 'O', 'O', 'O']\n"
          ]
        }
      ],
      "source": [
        "example_index = 6\n",
        "\n",
        "sentence = vars(valid_data.examples[example_index])['text']\n",
        "actual_tags = vars(valid_data.examples[example_index])['tag']\n",
        "\n",
        "print(sentence)\n",
        "print(actual_tags)"
      ]
    },
    {
      "cell_type": "code",
      "execution_count": null,
      "metadata": {
        "id": "7jSGqRX8XHHl",
        "outputId": "99735be5-c439-45a0-94fc-b3a1016d0a1a"
      },
      "outputs": [
        {
          "name": "stdout",
          "output_type": "stream",
          "text": [
            "['O', 'O', 'O', 'O', 'O', 'O', 'O', 'O', 'O', 'O', 'O', 'O', 'O', 'O', 'B-PER', 'O', 'O', 'O', 'O', 'O', 'O', 'O', 'O', 'O']\n",
            "['O', 'O', 'O', 'O', 'B-ORG', 'O', 'O', 'O', 'O', 'O', 'O', 'O', 'O', 'O', 'B-PER', 'O', 'O', 'O', 'O', 'O', 'O', 'O', 'O', 'O']\n"
          ]
        }
      ],
      "source": [
        "tokens, pred_tags, unks = tag_sentence(model,\n",
        "                                       device,\n",
        "                                       sentence,\n",
        "                                       TEXT,\n",
        "                                       TAG\n",
        "                                      )\n",
        "print(pred_tags)\n",
        "print(actual_tags)"
      ]
    },
    {
      "cell_type": "code",
      "execution_count": null,
      "metadata": {
        "id": "V59bzJjLXHHl",
        "outputId": "6a68a279-6df2-4954-8e7a-3104b519218e"
      },
      "outputs": [
        {
          "name": "stdout",
          "output_type": "stream",
          "text": [
            "Pred. Tag\t\t\t\tActual Tag\t\t\t\tCorrect?\t\t\t\tToken\n",
            "\n",
            "O \t\t\t\t\t O \t\t\t\t\t ✔ \t\t\t\t\t Trailing\n",
            "O \t\t\t\t\t O \t\t\t\t\t ✔ \t\t\t\t\t by\n",
            "O \t\t\t\t\t O \t\t\t\t\t ✔ \t\t\t\t\t 213\n",
            "O \t\t\t\t\t O \t\t\t\t\t ✔ \t\t\t\t\t ,\n",
            "O \t\t\t\t\t B-ORG \t\t\t\t ✘ \t\t\t\t\t Somerset\n",
            "O \t\t\t\t\t O \t\t\t\t\t ✔ \t\t\t\t\t got\n",
            "O \t\t\t\t\t O \t\t\t\t\t ✔ \t\t\t\t\t a\n",
            "O \t\t\t\t\t O \t\t\t\t\t ✔ \t\t\t\t\t solid\n",
            "O \t\t\t\t\t O \t\t\t\t\t ✔ \t\t\t\t\t start\n",
            "O \t\t\t\t\t O \t\t\t\t\t ✔ \t\t\t\t\t to\n",
            "O \t\t\t\t\t O \t\t\t\t\t ✔ \t\t\t\t\t their\n",
            "O \t\t\t\t\t O \t\t\t\t\t ✔ \t\t\t\t\t second\n",
            "O \t\t\t\t\t O \t\t\t\t\t ✔ \t\t\t\t\t innings\n",
            "O \t\t\t\t\t O \t\t\t\t\t ✔ \t\t\t\t\t before\n",
            "B-PER \t\t\t\t B-PER \t\t\t\t ✔ \t\t\t\t\t Simmons\n",
            "O \t\t\t\t\t O \t\t\t\t\t ✔ \t\t\t\t\t stepped\n",
            "O \t\t\t\t\t O \t\t\t\t\t ✔ \t\t\t\t\t in\n",
            "O \t\t\t\t\t O \t\t\t\t\t ✔ \t\t\t\t\t to\n",
            "O \t\t\t\t\t O \t\t\t\t\t ✔ \t\t\t\t\t bundle\n",
            "O \t\t\t\t\t O \t\t\t\t\t ✔ \t\t\t\t\t them\n",
            "O \t\t\t\t\t O \t\t\t\t\t ✔ \t\t\t\t\t out\n",
            "O \t\t\t\t\t O \t\t\t\t\t ✔ \t\t\t\t\t for\n",
            "O \t\t\t\t\t O \t\t\t\t\t ✔ \t\t\t\t\t 174\n",
            "O \t\t\t\t\t O \t\t\t\t\t ✔ \t\t\t\t\t .\n"
          ]
        }
      ],
      "source": [
        "print(\"Pred. Tag\\t\\t\\t\\tActual Tag\\t\\t\\t\\tCorrect?\\t\\t\\t\\tToken\\n\")\n",
        "for token, pred_tag, actual_tag in zip(tokens, pred_tags, actual_tags):\n",
        "    correct = '✔' if pred_tag == actual_tag else '✘'\n",
        "    space = 5 if pred_tag == 'O'else 4\n",
        "    space1 = 5 if actual_tag == 'O'else 4\n",
        "    print(pred_tag,\"\\t\"*space, actual_tag, \"\\t\"*space1, correct,\"\\t\"*5, token)"
      ]
    },
    {
      "cell_type": "code",
      "execution_count": null,
      "metadata": {
        "id": "379kcA5_XHHl",
        "outputId": "d4b122f8-dc62-4daf-f62e-4e90d9123e99"
      },
      "outputs": [
        {
          "name": "stdout",
          "output_type": "stream",
          "text": [
            "[]\n",
            "Pred. Tag\tToken\n",
            "\n",
            "O \t\t The\n",
            "O \t\t will\n",
            "O \t\t deliver\n",
            "O \t\t a\n",
            "O \t\t speech\n",
            "O \t\t about\n",
            "O \t\t the\n",
            "O \t\t conflict\n",
            "O \t\t in\n",
            "B-LOC \t North\n",
            "I-LOC \t Korea\n",
            "O \t\t tomorrow\n",
            "O \t\t in\n",
            "B-LOC \t New\n",
            "I-LOC \t York\n",
            "O \t\t with\n",
            "O \t\t my\n",
            "O \t\t friend\n",
            "B-LOC \t Mary\n",
            "I-LOC \t Kate\n",
            "O \t\t .\n"
          ]
        }
      ],
      "source": [
        "sentence = 'The will deliver a speech about the conflict in North Korea tomorrow in New York with my friend Mary Kate.'\n",
        "tokens, tags, unks = tag_sentence(model,\n",
        "                                  device,\n",
        "                                  sentence,\n",
        "                                  TEXT,\n",
        "                                  TAG\n",
        "                                )\n",
        "\n",
        "print(unks)\n",
        "print(\"Pred. Tag\\tToken\\n\")\n",
        "\n",
        "\n",
        "for token, tag in zip(tokens, tags):\n",
        "    space = 2 if tag == 'O'else 1\n",
        "    print(tag, \"\\t\"*space, token)"
      ]
    },
    {
      "cell_type": "code",
      "execution_count": null,
      "metadata": {
        "id": "Kk2eXJ3nXHHm"
      },
      "outputs": [],
      "source": []
    }
  ],
  "metadata": {
    "colab": {
      "provenance": []
    },
    "kernelspec": {
      "display_name": "eval-env",
      "language": "python",
      "name": "python3"
    },
    "language_info": {
      "codemirror_mode": {
        "name": "ipython",
        "version": 3
      },
      "file_extension": ".py",
      "mimetype": "text/x-python",
      "name": "python",
      "nbconvert_exporter": "python",
      "pygments_lexer": "ipython3",
      "version": "3.9.16"
    }
  },
  "nbformat": 4,
  "nbformat_minor": 0
}
